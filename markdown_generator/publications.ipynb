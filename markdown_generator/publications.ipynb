{
 "cells": [
  {
   "cell_type": "markdown",
   "metadata": {
    "deletable": true,
    "editable": true
   },
   "source": [
    "# Publications markdown generator for academicpages\n",
    "\n",
    "Takes a TSV of publications with metadata and converts them for use with [academicpages.github.io](academicpages.github.io). This is an interactive Jupyter notebook ([see more info here](http://jupyter-notebook-beginner-guide.readthedocs.io/en/latest/what_is_jupyter.html)). The core python code is also in `publications.py`. Run either from the `markdown_generator` folder after replacing `publications.tsv` with one containing your data.\n",
    "\n",
    "TODO: Make this work with BibTex and other databases of citations, rather than Stuart's non-standard TSV format and citation style.\n"
   ]
  },
  {
   "cell_type": "markdown",
   "metadata": {},
   "source": [
    "## Data format\n",
    "\n",
    "The TSV needs to have the following columns: pub_date, title, venue, excerpt, citation, site_url, and paper_url, with a header at the top. \n",
    "\n",
    "- `excerpt` and `paper_url` can be blank, but the others must have values. \n",
    "- `pub_date` must be formatted as YYYY-MM-DD.\n",
    "- `url_slug` will be the descriptive part of the .md file and the permalink URL for the page about the paper. The .md file will be `YYYY-MM-DD-[url_slug].md` and the permalink will be `https://[yourdomain]/publications/YYYY-MM-DD-[url_slug]`\n",
    "\n",
    "This is how the raw file looks (it doesn't look pretty, use a spreadsheet or other program to edit and create)."
   ]
  },
  {
   "cell_type": "code",
   "execution_count": 10,
   "metadata": {
    "collapsed": false
   },
   "outputs": [
    {
     "name": "stdout",
     "output_type": "stream",
     "text": [
      "category\tpub_date\ttitle\tvenue\texcerpt\tcitation\turl_slug\tpaper_url\n",
      "fullpapers\t2024-12-30\tGoalTrack: Supporting Personalized Goal-Setting in Stroke Rehabilitation with Multimodal Activity Journaling\tProceedings of the ACM on Interactive, Mobile, Wearable and Ubiquitous Technologies (IMWUT)\tStroke is the leading cause of disability among adults, with motor impairments being the most significant complication. Stroke rehabilitation is critical for stroke survivors to regain independence in their daily activities. Central to this rehabilitation process is patient-centered goal-setting, a crucial philosophy underpinning personalized programs. However, mismatched expectations between stroke survivors and clinicians often lead to limited engagement from patients, which detracts from patient-centeredness. We envision that stroke survivors who engage in journaling activities can empower themselves to be more proactive, thereby enhancing the goal-setting process. To this end, we iteratively designed and developed GoalTrack, an activity journaling app utilizing voice and touch to support stroke survivors in articulating their rehabilitation goals. Using GoalTrack as a probe, we conducted an in-lab user study with thirteen stroke survivor participants. We present findings on how stroke survivors utilize multimodal input for different data formats, and their perspectives on its accessibility. We also report on how stroke survivors envision activity journaling in the goal-setting process, where our findings suggest that journaling supports articulating personalized rehabilitation goals and fosters enhanced engagement with therapists. We also discuss future avenues of research for designing multimodal interfaces for stroke survivors, and share lessons learned from conducting in-lab studies.\tJong Ho Lee, Sunghoon Ivan Lee, and Eun Kyoung Choe. (2024). \"GoalTrack: Supporting Personalized Goal-Setting in Stroke Rehabilitation with Multimodal Activity Journaling.\" <i>Proceedings of the ACM on Interactive, Mobile, Wearable and Ubiquitous Technologies (IMWUT) Vol. 8, No. 4.</i>. 1(3).\timwut-goaltrack\thttp://brac45.github.io/files/goaltrack-paper-imwut.pdf\n",
      "fullpapers\t2021-12-30\tUnderstanding and Supporting Self-Tracking App Selection\tProceedings of the ACM on Interactive, Mobile, Wearable and Ubiquitous Technologies (IMWUT)\tPeople often face barriers to selecting self-tracking tools that support their goals and needs, resulting in tools not meeting their expectations and ultimately abandonment. We therefore examine how people approach selecting self-tracking apps and investigate how technology can better support the process. Drawing on past literature on how people select and perceive the features of commercial and research tracking tools, we surface seven attributes people consider during selection, and design a low-fidelity prototype of an app store that highlights these attributes. We then conduct semi-structured interviews with 18 participants to further investigate what people consider during selection, how people select self-tracking apps, and how surfacing tracking-related attributes could better support selection. We find that people often prioritize features related to self-tracking during selection, such as approaches to collecting and reflecting on data, and trial apps to determine whether they would suit their needs. Our results also show potential for technology surfacing how apps support tracking to reduce barriers to selection. We discuss future opportunities for improving self-tracking app selection, such as ways to enhance existing self-tracking app distribution platforms to enable people to filter and search apps by desirable features.\tJong Ho Lee, Jessica Schroeder, and Daniel A. Epstein. (2022). \"Understanding and Supporting Self-Tracking App Selection.\" <i>Proceedings of the ACM on Interactive, Mobile, Wearable and Ubiquitous Technologies (IMWUT) Vol. 5, No. 4.</i>\timwut-selection\thttps://dl.acm.org/doi/10.1145/3494980\n",
      "fullpapers\t2020-12-17\tMapping and Taking Stock of Personal Informatics Literature\tProceedings of the ACM on Interactive, Mobile, Wearable and Ubiquitous Technologies (IMWUT)\tThe research community on the study and design of systems for personal informatics has grown over the past decade. To take stock of what the topics the field has studied and methods the field has used, we map and label 523 publications from ACM's library, IEEE Xplore, and PubMed. We surface that the literature has focused on studying and designing for health and wellness domains, an emphasis on understanding and overcoming barriers to data collection and reflection, and progressively fewer contributions involving artifacts being made. Our mapping review suggests directions future research could explore, such as identifying and resolving barriers to tracking stages beyond collection and reflection, engaging more with domain experts, and further discussing the privacy and ethical concerns around tracked data.\tDaniel A. Epstein, Clara Caldeira, Mayara Costa Figueiredo, Xi Lu, Lucas M. Silva, Lucretia Williams, Jong Ho Lee, Qingyang Li, Simran Ahuja, Qiuer Chen, Payam Dowlatyari, Craig Hilby, Sazeda Sultana, Elizabeth V. Eikey, and Yunan Chen. (2020). \"Mapping and Taking Stock of the Personal Informatics Literature.\" <i>Proceedings of the ACM on Interactive, Mobile, Wearable and Ubiquitous Technologies (IMWUT) Vol. 4, No. 4.</i>\timwut-mapping\thttps://doi.org/10.1145/3432231\n",
      "fullpapers\t2018-12-02\tNeutralizing BLE Beacon-based Electronic Attendance System using Signal Imitation Attack\tIEEE Access\tMany emerging location- or proximity-based applications use Bluetooth low energy (BLE) beacons thanks to the increasing popularity of the technology in mobile systems. An outstanding example is the BLE beacon-based electronic attendance system (BEAS) used in many universities today to increase the efficiency of lectures. Despite its popularity and usefulness, however, BEAS has not been thoroughly analyzed for its potential vulnerabilities. In this paper, we neutralize a university's BEAS by maliciously cheating attendance (i.e., faking attendance while the subject is not physically present at the location) in various scenarios using signal imitation attack, and investigate its possible vulnerabilities. The BEAS exploited in this paper is a commercial system actually used in a well-known university. After the exploitation experiment, we analyze the system's weaknesses and present possible counter-measures. Furthermore, additional attack methods are shown to re-counteract those possible counter-measures and to discuss the fundamental challenges, deficiencies, and suggestions in electronic attendance systems using BLE beacons.\tMoonbeom Kim, Jong Ho Lee, and Jeongyeup Paek. (2018). \"Neutralizing BLE Beacon-based Electronic Attendance System using Signal Imitation Attack.\" <i>IEEE Access</i>. Vol. 6.\tble-ieee-access\thttps://doi.org/10.1109/ACCESS.2018.2884488\n",
      "shortpapers\t2016-01-01\tImmersive Gesture Interface Design for HMD Based Virtual World Navigation\tExtended Abstracts of HCI Korea 2016\tIncreased popularity of head-mounted displays (HMD) highlights the need to design effective interfaces to help the user navigate a 3D virtual world. This study compared four different interfaces: gesture interface that the user imitates bird-like motions, gesture interface that the user imitates a \"superman\" motion, a set of hand gestures, and traditional keyboard input. Microsoft Kinect's Motion Sensor was used when implementing motion recognizing algorithms, and Oculus Rift DK2 was used to render the 3D virtual world. To compare the four designed interfaces for virtual environments based on Oculus HMD navigation, the four interfaces were evaluated by 31 students Chung-Ang University students. Preliminary findings suggests that bird-like motions were the easiest to navigate. We discuss the pros and cons of different interaction techniques between the virtual reality and the user, and propose a new operation method for traversing 3D virtual worlds. \tLee Yea Som, Wang Duk Seo, Jong Ho Lee, Bong-Soo Sohn. (2016). \"Immersive Gesture Interface Design for HMD Based Virtual World Navigation.\" <i>Extended Abstracts of HCI Korea 2016</i>. Pages 9--14.\tea-gesture-interfaces\thttps://www.dbpia.co.kr/pdf/pdfView?nodeId=NODE06645393"
     ]
    }
   ],
   "source": [
    "!cat publications.tsv"
   ]
  },
  {
   "cell_type": "markdown",
   "metadata": {},
   "source": [
    "## Import pandas\n",
    "\n",
    "We are using the very handy pandas library for dataframes."
   ]
  },
  {
   "cell_type": "code",
   "execution_count": 2,
   "metadata": {
    "collapsed": true,
    "deletable": true,
    "editable": true
   },
   "outputs": [],
   "source": [
    "import pandas as pd"
   ]
  },
  {
   "cell_type": "markdown",
   "metadata": {},
   "source": [
    "## Import TSV\n",
    "\n",
    "Pandas makes this easy with the read_csv function. We are using a TSV, so we specify the separator as a tab, or `\\t`.\n",
    "\n",
    "I found it important to put this data in a tab-separated values format, because there are a lot of commas in this kind of data and comma-separated values can get messed up. However, you can modify the import statement, as pandas also has read_excel(), read_json(), and others."
   ]
  },
  {
   "cell_type": "code",
   "execution_count": 11,
   "metadata": {
    "collapsed": false,
    "deletable": true,
    "editable": true
   },
   "outputs": [
    {
     "data": {
      "text/html": [
       "<div>\n",
       "<style scoped>\n",
       "    .dataframe tbody tr th:only-of-type {\n",
       "        vertical-align: middle;\n",
       "    }\n",
       "\n",
       "    .dataframe tbody tr th {\n",
       "        vertical-align: top;\n",
       "    }\n",
       "\n",
       "    .dataframe thead th {\n",
       "        text-align: right;\n",
       "    }\n",
       "</style>\n",
       "<table border=\"1\" class=\"dataframe\">\n",
       "  <thead>\n",
       "    <tr style=\"text-align: right;\">\n",
       "      <th></th>\n",
       "      <th>category</th>\n",
       "      <th>pub_date</th>\n",
       "      <th>title</th>\n",
       "      <th>venue</th>\n",
       "      <th>excerpt</th>\n",
       "      <th>citation</th>\n",
       "      <th>url_slug</th>\n",
       "      <th>paper_url</th>\n",
       "    </tr>\n",
       "  </thead>\n",
       "  <tbody>\n",
       "    <tr>\n",
       "      <th>0</th>\n",
       "      <td>fullpapers</td>\n",
       "      <td>2024-12-30</td>\n",
       "      <td>GoalTrack: Supporting Personalized Goal-Settin...</td>\n",
       "      <td>Proceedings of the ACM on Interactive, Mobile,...</td>\n",
       "      <td>Stroke is the leading cause of disability amon...</td>\n",
       "      <td>Jong Ho Lee, Sunghoon Ivan Lee, and Eun Kyoung...</td>\n",
       "      <td>imwut-goaltrack</td>\n",
       "      <td>http://brac45.github.io/files/goaltrack-paper-...</td>\n",
       "    </tr>\n",
       "    <tr>\n",
       "      <th>1</th>\n",
       "      <td>fullpapers</td>\n",
       "      <td>2021-12-30</td>\n",
       "      <td>Understanding and Supporting Self-Tracking App...</td>\n",
       "      <td>Proceedings of the ACM on Interactive, Mobile,...</td>\n",
       "      <td>People often face barriers to selecting self-t...</td>\n",
       "      <td>Jong Ho Lee, Jessica Schroeder, and Daniel A. ...</td>\n",
       "      <td>imwut-selection</td>\n",
       "      <td>https://dl.acm.org/doi/10.1145/3494980</td>\n",
       "    </tr>\n",
       "    <tr>\n",
       "      <th>2</th>\n",
       "      <td>fullpapers</td>\n",
       "      <td>2020-12-17</td>\n",
       "      <td>Mapping and Taking Stock of Personal Informati...</td>\n",
       "      <td>Proceedings of the ACM on Interactive, Mobile,...</td>\n",
       "      <td>The research community on the study and design...</td>\n",
       "      <td>Daniel A. Epstein, Clara Caldeira, Mayara Cost...</td>\n",
       "      <td>imwut-mapping</td>\n",
       "      <td>https://doi.org/10.1145/3432231</td>\n",
       "    </tr>\n",
       "    <tr>\n",
       "      <th>3</th>\n",
       "      <td>fullpapers</td>\n",
       "      <td>2018-12-02</td>\n",
       "      <td>Neutralizing BLE Beacon-based Electronic Atten...</td>\n",
       "      <td>IEEE Access</td>\n",
       "      <td>Many emerging location- or proximity-based app...</td>\n",
       "      <td>Moonbeom Kim, Jong Ho Lee, and Jeongyeup Paek....</td>\n",
       "      <td>ble-ieee-access</td>\n",
       "      <td>https://doi.org/10.1109/ACCESS.2018.2884488</td>\n",
       "    </tr>\n",
       "    <tr>\n",
       "      <th>4</th>\n",
       "      <td>shortpapers</td>\n",
       "      <td>2016-01-01</td>\n",
       "      <td>Immersive Gesture Interface Design for HMD Bas...</td>\n",
       "      <td>Extended Abstracts of HCI Korea 2016</td>\n",
       "      <td>Increased popularity of head-mounted displays ...</td>\n",
       "      <td>Lee Yea Som, Wang Duk Seo, Jong Ho Lee, Bong-S...</td>\n",
       "      <td>ea-gesture-interfaces</td>\n",
       "      <td>https://www.dbpia.co.kr/pdf/pdfView?nodeId=NOD...</td>\n",
       "    </tr>\n",
       "  </tbody>\n",
       "</table>\n",
       "</div>"
      ],
      "text/plain": [
       "      category    pub_date                                              title  \\\n",
       "0   fullpapers  2024-12-30  GoalTrack: Supporting Personalized Goal-Settin...   \n",
       "1   fullpapers  2021-12-30  Understanding and Supporting Self-Tracking App...   \n",
       "2   fullpapers  2020-12-17  Mapping and Taking Stock of Personal Informati...   \n",
       "3   fullpapers  2018-12-02  Neutralizing BLE Beacon-based Electronic Atten...   \n",
       "4  shortpapers  2016-01-01  Immersive Gesture Interface Design for HMD Bas...   \n",
       "\n",
       "                                               venue  \\\n",
       "0  Proceedings of the ACM on Interactive, Mobile,...   \n",
       "1  Proceedings of the ACM on Interactive, Mobile,...   \n",
       "2  Proceedings of the ACM on Interactive, Mobile,...   \n",
       "3                                        IEEE Access   \n",
       "4               Extended Abstracts of HCI Korea 2016   \n",
       "\n",
       "                                             excerpt  \\\n",
       "0  Stroke is the leading cause of disability amon...   \n",
       "1  People often face barriers to selecting self-t...   \n",
       "2  The research community on the study and design...   \n",
       "3  Many emerging location- or proximity-based app...   \n",
       "4  Increased popularity of head-mounted displays ...   \n",
       "\n",
       "                                            citation               url_slug  \\\n",
       "0  Jong Ho Lee, Sunghoon Ivan Lee, and Eun Kyoung...        imwut-goaltrack   \n",
       "1  Jong Ho Lee, Jessica Schroeder, and Daniel A. ...        imwut-selection   \n",
       "2  Daniel A. Epstein, Clara Caldeira, Mayara Cost...          imwut-mapping   \n",
       "3  Moonbeom Kim, Jong Ho Lee, and Jeongyeup Paek....        ble-ieee-access   \n",
       "4  Lee Yea Som, Wang Duk Seo, Jong Ho Lee, Bong-S...  ea-gesture-interfaces   \n",
       "\n",
       "                                           paper_url  \n",
       "0  http://brac45.github.io/files/goaltrack-paper-...  \n",
       "1             https://dl.acm.org/doi/10.1145/3494980  \n",
       "2                    https://doi.org/10.1145/3432231  \n",
       "3        https://doi.org/10.1109/ACCESS.2018.2884488  \n",
       "4  https://www.dbpia.co.kr/pdf/pdfView?nodeId=NOD...  "
      ]
     },
     "execution_count": 11,
     "metadata": {},
     "output_type": "execute_result"
    }
   ],
   "source": [
    "publications = pd.read_csv(\"publications.tsv\", sep=\"\\t\", header=0)\n",
    "publications\n"
   ]
  },
  {
   "cell_type": "markdown",
   "metadata": {},
   "source": [
    "## Escape special characters\n",
    "\n",
    "YAML is very picky about how it takes a valid string, so we are replacing single and double quotes (and ampersands) with their HTML encoded equivilents. This makes them look not so readable in raw format, but they are parsed and rendered nicely."
   ]
  },
  {
   "cell_type": "code",
   "execution_count": 12,
   "metadata": {
    "collapsed": true,
    "deletable": true,
    "editable": true
   },
   "outputs": [],
   "source": [
    "html_escape_table = {\n",
    "    \"&\": \"&amp;\",\n",
    "    '\"': \"&quot;\",\n",
    "    \"'\": \"&apos;\"\n",
    "    }\n",
    "\n",
    "def html_escape(text):\n",
    "    \"\"\"Produce entities within text.\"\"\"\n",
    "    return \"\".join(html_escape_table.get(c,c) for c in text)"
   ]
  },
  {
   "cell_type": "markdown",
   "metadata": {},
   "source": [
    "## Creating the markdown files\n",
    "\n",
    "This is where the heavy lifting is done. This loops through all the rows in the TSV dataframe, then starts to concatentate a big string (```md```) that contains the markdown for each type. It does the YAML metadata first, then does the description for the individual page."
   ]
  },
  {
   "cell_type": "code",
   "execution_count": 14,
   "metadata": {
    "collapsed": false,
    "deletable": true,
    "editable": true
   },
   "outputs": [
    {
     "data": {
      "text/html": [
       "<div>\n",
       "<style scoped>\n",
       "    .dataframe tbody tr th:only-of-type {\n",
       "        vertical-align: middle;\n",
       "    }\n",
       "\n",
       "    .dataframe tbody tr th {\n",
       "        vertical-align: top;\n",
       "    }\n",
       "\n",
       "    .dataframe thead th {\n",
       "        text-align: right;\n",
       "    }\n",
       "</style>\n",
       "<table border=\"1\" class=\"dataframe\">\n",
       "  <thead>\n",
       "    <tr style=\"text-align: right;\">\n",
       "      <th></th>\n",
       "      <th>category</th>\n",
       "      <th>pub_date</th>\n",
       "      <th>title</th>\n",
       "      <th>venue</th>\n",
       "      <th>excerpt</th>\n",
       "      <th>citation</th>\n",
       "      <th>url_slug</th>\n",
       "      <th>paper_url</th>\n",
       "    </tr>\n",
       "  </thead>\n",
       "  <tbody>\n",
       "    <tr>\n",
       "      <th>0</th>\n",
       "      <td>fullpapers</td>\n",
       "      <td>2024-12-30</td>\n",
       "      <td>GoalTrack: Supporting Personalized Goal-Settin...</td>\n",
       "      <td>Proceedings of the ACM on Interactive, Mobile,...</td>\n",
       "      <td>Stroke is the leading cause of disability amon...</td>\n",
       "      <td>Jong Ho Lee, Sunghoon Ivan Lee, and Eun Kyoung...</td>\n",
       "      <td>imwut-goaltrack</td>\n",
       "      <td>http://brac45.github.io/files/goaltrack-paper-...</td>\n",
       "    </tr>\n",
       "    <tr>\n",
       "      <th>1</th>\n",
       "      <td>fullpapers</td>\n",
       "      <td>2021-12-30</td>\n",
       "      <td>Understanding and Supporting Self-Tracking App...</td>\n",
       "      <td>Proceedings of the ACM on Interactive, Mobile,...</td>\n",
       "      <td>People often face barriers to selecting self-t...</td>\n",
       "      <td>Jong Ho Lee, Jessica Schroeder, and Daniel A. ...</td>\n",
       "      <td>imwut-selection</td>\n",
       "      <td>https://dl.acm.org/doi/10.1145/3494980</td>\n",
       "    </tr>\n",
       "    <tr>\n",
       "      <th>2</th>\n",
       "      <td>fullpapers</td>\n",
       "      <td>2020-12-17</td>\n",
       "      <td>Mapping and Taking Stock of Personal Informati...</td>\n",
       "      <td>Proceedings of the ACM on Interactive, Mobile,...</td>\n",
       "      <td>The research community on the study and design...</td>\n",
       "      <td>Daniel A. Epstein, Clara Caldeira, Mayara Cost...</td>\n",
       "      <td>imwut-mapping</td>\n",
       "      <td>https://doi.org/10.1145/3432231</td>\n",
       "    </tr>\n",
       "    <tr>\n",
       "      <th>3</th>\n",
       "      <td>fullpapers</td>\n",
       "      <td>2018-12-02</td>\n",
       "      <td>Neutralizing BLE Beacon-based Electronic Atten...</td>\n",
       "      <td>IEEE Access</td>\n",
       "      <td>Many emerging location- or proximity-based app...</td>\n",
       "      <td>Moonbeom Kim, Jong Ho Lee, and Jeongyeup Paek....</td>\n",
       "      <td>ble-ieee-access</td>\n",
       "      <td>https://doi.org/10.1109/ACCESS.2018.2884488</td>\n",
       "    </tr>\n",
       "    <tr>\n",
       "      <th>4</th>\n",
       "      <td>shortpapers</td>\n",
       "      <td>2016-01-01</td>\n",
       "      <td>Immersive Gesture Interface Design for HMD Bas...</td>\n",
       "      <td>Extended Abstracts of HCI Korea 2016</td>\n",
       "      <td>Increased popularity of head-mounted displays ...</td>\n",
       "      <td>Lee Yea Som, Wang Duk Seo, Jong Ho Lee, Bong-S...</td>\n",
       "      <td>ea-gesture-interfaces</td>\n",
       "      <td>https://www.dbpia.co.kr/pdf/pdfView?nodeId=NOD...</td>\n",
       "    </tr>\n",
       "  </tbody>\n",
       "</table>\n",
       "</div>"
      ],
      "text/plain": [
       "      category    pub_date                                              title  \\\n",
       "0   fullpapers  2024-12-30  GoalTrack: Supporting Personalized Goal-Settin...   \n",
       "1   fullpapers  2021-12-30  Understanding and Supporting Self-Tracking App...   \n",
       "2   fullpapers  2020-12-17  Mapping and Taking Stock of Personal Informati...   \n",
       "3   fullpapers  2018-12-02  Neutralizing BLE Beacon-based Electronic Atten...   \n",
       "4  shortpapers  2016-01-01  Immersive Gesture Interface Design for HMD Bas...   \n",
       "\n",
       "                                               venue  \\\n",
       "0  Proceedings of the ACM on Interactive, Mobile,...   \n",
       "1  Proceedings of the ACM on Interactive, Mobile,...   \n",
       "2  Proceedings of the ACM on Interactive, Mobile,...   \n",
       "3                                        IEEE Access   \n",
       "4               Extended Abstracts of HCI Korea 2016   \n",
       "\n",
       "                                             excerpt  \\\n",
       "0  Stroke is the leading cause of disability amon...   \n",
       "1  People often face barriers to selecting self-t...   \n",
       "2  The research community on the study and design...   \n",
       "3  Many emerging location- or proximity-based app...   \n",
       "4  Increased popularity of head-mounted displays ...   \n",
       "\n",
       "                                            citation               url_slug  \\\n",
       "0  Jong Ho Lee, Sunghoon Ivan Lee, and Eun Kyoung...        imwut-goaltrack   \n",
       "1  Jong Ho Lee, Jessica Schroeder, and Daniel A. ...        imwut-selection   \n",
       "2  Daniel A. Epstein, Clara Caldeira, Mayara Cost...          imwut-mapping   \n",
       "3  Moonbeom Kim, Jong Ho Lee, and Jeongyeup Paek....        ble-ieee-access   \n",
       "4  Lee Yea Som, Wang Duk Seo, Jong Ho Lee, Bong-S...  ea-gesture-interfaces   \n",
       "\n",
       "                                           paper_url  \n",
       "0  http://brac45.github.io/files/goaltrack-paper-...  \n",
       "1             https://dl.acm.org/doi/10.1145/3494980  \n",
       "2                    https://doi.org/10.1145/3432231  \n",
       "3        https://doi.org/10.1109/ACCESS.2018.2884488  \n",
       "4  https://www.dbpia.co.kr/pdf/pdfView?nodeId=NOD...  "
      ]
     },
     "execution_count": 14,
     "metadata": {},
     "output_type": "execute_result"
    }
   ],
   "source": [
    "import os\n",
    "\n",
    "html_escape_table = {\n",
    "    \"&\": \"&amp;\",\n",
    "    '\"': \"&quot;\",\n",
    "    \"'\": \"&apos;\"\n",
    "    }\n",
    "\n",
    "def html_escape(text):\n",
    "    \"\"\"Produce entities within text.\"\"\"\n",
    "    return \"\".join(html_escape_table.get(c,c) for c in text)\n",
    "\n",
    "publications = pd.read_csv(\"publications.tsv\", sep=\"\\t\", header=0)\n",
    "\n",
    "\n",
    "for row, item in publications.iterrows():\n",
    "    \n",
    "    md_filename = str(item.pub_date) + \"-\" + item.url_slug + \".md\"\n",
    "    html_filename = str(item.pub_date) + \"-\" + item.url_slug\n",
    "    year = item.pub_date[:4]\n",
    "    \n",
    "    ## YAML variables\n",
    "    \n",
    "    md = \"---\\ntitle: \\\"\"   + item.title + '\"\\n'\n",
    "    \n",
    "    md += \"\"\"collection: publications\"\"\" + '\"\\n'\n",
    "\n",
    "    md += \"\"\"category: \"\"\" + item.category\n",
    "    \n",
    "    md += \"\"\"\\npermalink: /publication/\"\"\" + html_filename\n",
    "    \n",
    "    if len(str(item.excerpt)) > 5:\n",
    "        md += \"\\nexcerpt: '\" + html_escape(item.excerpt) + \"'\"\n",
    "    \n",
    "    md += \"\\ndate: \" + str(item.pub_date) \n",
    "    \n",
    "    md += \"\\nvenue: '\" + html_escape(item.venue) + \"'\"\n",
    "    \n",
    "    #if len(str(item.slides_url)) > 5:\n",
    "    #    md += \"\\nslidesurl: '\" + item.slides_url + \"'\"\n",
    "\n",
    "    if len(str(item.paper_url)) > 5:\n",
    "        md += \"\\npaperurl: '\" + item.paper_url + \"'\"\n",
    "    \n",
    "    md += \"\\ncitation: '\" + html_escape(item.citation) + \"'\"\n",
    "    \n",
    "    md += \"\\n---\"\n",
    "    \n",
    "    ## Markdown description for individual page\n",
    "        \n",
    "    if len(str(item.excerpt)) > 5:\n",
    "        md += \"\\n\" + html_escape(item.excerpt) + \"\\n\"\n",
    "\n",
    "    #if len(str(item.slides_url)) > 5:\n",
    "        #md += \"\\n[Download slides here](\" + item.slides_url + \")\\n\" \n",
    "\n",
    "    if len(str(item.paper_url)) > 5:\n",
    "        md += \"\\n[Download paper here](\" + item.paper_url + \")\\n\" \n",
    "        \n",
    "    md += \"\\nRecommended citation: \" + item.citation\n",
    "    \n",
    "    md_filename = os.path.basename(md_filename)\n",
    "       \n",
    "    with open(\"../_publications/\" + md_filename, 'w') as f:\n",
    "        f.write(md)\n",
    "\n",
    "publications"
   ]
  },
  {
   "cell_type": "markdown",
   "metadata": {},
   "source": [
    "These files are in the publications directory, one directory below where we're working from."
   ]
  },
  {
   "cell_type": "code",
   "execution_count": 6,
   "metadata": {
    "collapsed": false,
    "deletable": true,
    "editable": true
   },
   "outputs": [
    {
     "name": "stdout",
     "output_type": "stream",
     "text": [
      "2009-10-01-paper-title-number-1.md  2018-12-02-ble-ieee-access.md\n",
      "2010-10-01-paper-title-number-2.md  2020-12-17-imwut-mapping.md\n",
      "2015-10-01-paper-title-number-3.md  2021-12-30-imwut-selection.md\n",
      "2016-01-01-ea-gesture-interfaces.md 2024-12-30-imwut-goaltrack.md\n"
     ]
    }
   ],
   "source": [
    "!ls ../_publications/"
   ]
  },
  {
   "cell_type": "code",
   "execution_count": null,
   "metadata": {
    "collapsed": true,
    "deletable": true,
    "editable": true
   },
   "outputs": [],
   "source": []
  }
 ],
 "metadata": {
  "kernelspec": {
   "display_name": "base",
   "language": "python",
   "name": "python3"
  },
  "language_info": {
   "codemirror_mode": {
    "name": "ipython",
    "version": 3
   },
   "file_extension": ".py",
   "mimetype": "text/x-python",
   "name": "python",
   "nbconvert_exporter": "python",
   "pygments_lexer": "ipython3",
   "version": "3.12.2"
  }
 },
 "nbformat": 4,
 "nbformat_minor": 0
}
